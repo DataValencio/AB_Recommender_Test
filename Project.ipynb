{
 "cells": [
  {
   "cell_type": "code",
   "execution_count": 1,
   "id": "8721de8c",
   "metadata": {
    "trusted": false
   },
   "outputs": [],
   "source": [
    "import pandas as pd\n",
    "import matplotlib.pyplot as plt\n",
    "import seaborn as sns\n",
    "from statsmodels.stats.proportion import proportions_ztest\n"
   ]
  },
  {
   "cell_type": "code",
   "execution_count": 2,
   "id": "8df4c551",
   "metadata": {
    "trusted": false
   },
   "outputs": [],
   "source": [
    "marketingeventos = pd.read_csv('datasets/ab_project_marketing_events_us.csv')\n",
    "finaleventos = pd.read_csv('datasets/final_ab_events_upd_us.csv')\n",
    "novosusuarios = pd.read_csv('datasets/final_ab_new_users_upd_us.csv')\n",
    "participantes = pd.read_csv('datasets/final_ab_participants_upd_us.csv')\n"
   ]
  },
  {
   "cell_type": "code",
   "execution_count": 3,
   "id": "92cec0ec",
   "metadata": {
    "trusted": false
   },
   "outputs": [
    {
     "name": "stdout",
     "output_type": "stream",
     "text": [
      "<class 'pandas.core.frame.DataFrame'>\n",
      "RangeIndex: 14 entries, 0 to 13\n",
      "Data columns (total 4 columns):\n",
      " #   Column       Non-Null Count  Dtype         \n",
      "---  ------       --------------  -----         \n",
      " 0   nome_evento  14 non-null     object        \n",
      " 1   regioes      14 non-null     object        \n",
      " 2   data_inicio  14 non-null     datetime64[ns]\n",
      " 3   data_fim     14 non-null     datetime64[ns]\n",
      "dtypes: datetime64[ns](2), object(2)\n",
      "memory usage: 580.0+ bytes\n"
     ]
    },
    {
     "data": {
      "text/html": [
       "<div>\n",
       "<style scoped>\n",
       "    .dataframe tbody tr th:only-of-type {\n",
       "        vertical-align: middle;\n",
       "    }\n",
       "\n",
       "    .dataframe tbody tr th {\n",
       "        vertical-align: top;\n",
       "    }\n",
       "\n",
       "    .dataframe thead th {\n",
       "        text-align: right;\n",
       "    }\n",
       "</style>\n",
       "<table border=\"1\" class=\"dataframe\">\n",
       "  <thead>\n",
       "    <tr style=\"text-align: right;\">\n",
       "      <th></th>\n",
       "      <th>nome_evento</th>\n",
       "      <th>regioes</th>\n",
       "      <th>data_inicio</th>\n",
       "      <th>data_fim</th>\n",
       "    </tr>\n",
       "  </thead>\n",
       "  <tbody>\n",
       "    <tr>\n",
       "      <th>0</th>\n",
       "      <td>Christmas&amp;New Year Promo</td>\n",
       "      <td>EU, N.America</td>\n",
       "      <td>2020-12-25</td>\n",
       "      <td>2021-01-03</td>\n",
       "    </tr>\n",
       "    <tr>\n",
       "      <th>1</th>\n",
       "      <td>St. Valentine's Day Giveaway</td>\n",
       "      <td>EU, CIS, APAC, N.America</td>\n",
       "      <td>2020-02-14</td>\n",
       "      <td>2020-02-16</td>\n",
       "    </tr>\n",
       "    <tr>\n",
       "      <th>2</th>\n",
       "      <td>St. Patric's Day Promo</td>\n",
       "      <td>EU, N.America</td>\n",
       "      <td>2020-03-17</td>\n",
       "      <td>2020-03-19</td>\n",
       "    </tr>\n",
       "    <tr>\n",
       "      <th>3</th>\n",
       "      <td>Easter Promo</td>\n",
       "      <td>EU, CIS, APAC, N.America</td>\n",
       "      <td>2020-04-12</td>\n",
       "      <td>2020-04-19</td>\n",
       "    </tr>\n",
       "    <tr>\n",
       "      <th>4</th>\n",
       "      <td>4th of July Promo</td>\n",
       "      <td>N.America</td>\n",
       "      <td>2020-07-04</td>\n",
       "      <td>2020-07-11</td>\n",
       "    </tr>\n",
       "  </tbody>\n",
       "</table>\n",
       "</div>"
      ],
      "text/plain": [
       "                    nome_evento                   regioes data_inicio  \\\n",
       "0      Christmas&New Year Promo             EU, N.America  2020-12-25   \n",
       "1  St. Valentine's Day Giveaway  EU, CIS, APAC, N.America  2020-02-14   \n",
       "2        St. Patric's Day Promo             EU, N.America  2020-03-17   \n",
       "3                  Easter Promo  EU, CIS, APAC, N.America  2020-04-12   \n",
       "4             4th of July Promo                 N.America  2020-07-04   \n",
       "\n",
       "    data_fim  \n",
       "0 2021-01-03  \n",
       "1 2020-02-16  \n",
       "2 2020-03-19  \n",
       "3 2020-04-19  \n",
       "4 2020-07-11  "
      ]
     },
     "execution_count": 3,
     "metadata": {},
     "output_type": "execute_result"
    }
   ],
   "source": [
    "# Renomear colunas para português\n",
    "marketingeventos = marketingeventos.rename(columns={\n",
    "    'name': 'nome_evento',\n",
    "    'regions': 'regioes',\n",
    "    'start_dt': 'data_inicio',\n",
    "    'finish_dt': 'data_fim'\n",
    "})\n",
    "\n",
    "# Converter datas para datetime\n",
    "marketingeventos['data_inicio'] = pd.to_datetime(marketingeventos['data_inicio'])\n",
    "marketingeventos['data_fim'] = pd.to_datetime(marketingeventos['data_fim'])\n",
    "\n",
    "# Visualizar estrutura após ajustes\n",
    "marketingeventos.info()\n",
    "marketingeventos.head()"
   ]
  },
  {
   "cell_type": "code",
   "execution_count": 4,
   "id": "3dc8b409",
   "metadata": {
    "trusted": false
   },
   "outputs": [
    {
     "name": "stdout",
     "output_type": "stream",
     "text": [
      "<class 'pandas.core.frame.DataFrame'>\n",
      "RangeIndex: 423761 entries, 0 to 423760\n",
      "Data columns (total 4 columns):\n",
      " #   Column       Non-Null Count   Dtype         \n",
      "---  ------       --------------   -----         \n",
      " 0   id_usuario   423761 non-null  object        \n",
      " 1   data_evento  423761 non-null  datetime64[ns]\n",
      " 2   nome_evento  423761 non-null  object        \n",
      " 3   detalhes     60314 non-null   float64       \n",
      "dtypes: datetime64[ns](1), float64(1), object(2)\n",
      "memory usage: 12.9+ MB\n"
     ]
    },
    {
     "data": {
      "text/html": [
       "<div>\n",
       "<style scoped>\n",
       "    .dataframe tbody tr th:only-of-type {\n",
       "        vertical-align: middle;\n",
       "    }\n",
       "\n",
       "    .dataframe tbody tr th {\n",
       "        vertical-align: top;\n",
       "    }\n",
       "\n",
       "    .dataframe thead th {\n",
       "        text-align: right;\n",
       "    }\n",
       "</style>\n",
       "<table border=\"1\" class=\"dataframe\">\n",
       "  <thead>\n",
       "    <tr style=\"text-align: right;\">\n",
       "      <th></th>\n",
       "      <th>id_usuario</th>\n",
       "      <th>data_evento</th>\n",
       "      <th>nome_evento</th>\n",
       "      <th>detalhes</th>\n",
       "    </tr>\n",
       "  </thead>\n",
       "  <tbody>\n",
       "    <tr>\n",
       "      <th>0</th>\n",
       "      <td>E1BDDCE0DAFA2679</td>\n",
       "      <td>2020-12-07 20:22:03</td>\n",
       "      <td>purchase</td>\n",
       "      <td>99.99</td>\n",
       "    </tr>\n",
       "    <tr>\n",
       "      <th>1</th>\n",
       "      <td>7B6452F081F49504</td>\n",
       "      <td>2020-12-07 09:22:53</td>\n",
       "      <td>purchase</td>\n",
       "      <td>9.99</td>\n",
       "    </tr>\n",
       "    <tr>\n",
       "      <th>2</th>\n",
       "      <td>9CD9F34546DF254C</td>\n",
       "      <td>2020-12-07 12:59:29</td>\n",
       "      <td>purchase</td>\n",
       "      <td>4.99</td>\n",
       "    </tr>\n",
       "    <tr>\n",
       "      <th>3</th>\n",
       "      <td>96F27A054B191457</td>\n",
       "      <td>2020-12-07 04:02:40</td>\n",
       "      <td>purchase</td>\n",
       "      <td>4.99</td>\n",
       "    </tr>\n",
       "    <tr>\n",
       "      <th>4</th>\n",
       "      <td>1FD7660FDF94CA1F</td>\n",
       "      <td>2020-12-07 10:15:09</td>\n",
       "      <td>purchase</td>\n",
       "      <td>4.99</td>\n",
       "    </tr>\n",
       "  </tbody>\n",
       "</table>\n",
       "</div>"
      ],
      "text/plain": [
       "         id_usuario         data_evento nome_evento  detalhes\n",
       "0  E1BDDCE0DAFA2679 2020-12-07 20:22:03    purchase     99.99\n",
       "1  7B6452F081F49504 2020-12-07 09:22:53    purchase      9.99\n",
       "2  9CD9F34546DF254C 2020-12-07 12:59:29    purchase      4.99\n",
       "3  96F27A054B191457 2020-12-07 04:02:40    purchase      4.99\n",
       "4  1FD7660FDF94CA1F 2020-12-07 10:15:09    purchase      4.99"
      ]
     },
     "execution_count": 4,
     "metadata": {},
     "output_type": "execute_result"
    }
   ],
   "source": [
    "finaleventos = finaleventos.rename(columns={\n",
    "    'user_id': 'id_usuario',\n",
    "    'event_dt': 'data_evento',\n",
    "    'event_name': 'nome_evento',\n",
    "    'details': 'detalhes'\n",
    "})\n",
    "\n",
    "finaleventos['data_evento'] = pd.to_datetime(finaleventos['data_evento'])\n",
    "\n",
    "finaleventos.info()\n",
    "finaleventos.head()\n"
   ]
  },
  {
   "cell_type": "markdown",
   "id": "32daa5cd",
   "metadata": {},
   "source": [
    "A coluna \"detalhes\" contem muitos valores ausentes, porém não sera necessario a sua remoção a menos que decidimos fazer uma analise de compras."
   ]
  },
  {
   "cell_type": "code",
   "execution_count": 5,
   "id": "0ec7d7db",
   "metadata": {
    "trusted": false
   },
   "outputs": [
    {
     "name": "stdout",
     "output_type": "stream",
     "text": [
      "<class 'pandas.core.frame.DataFrame'>\n",
      "RangeIndex: 58703 entries, 0 to 58702\n",
      "Data columns (total 4 columns):\n",
      " #   Column                Non-Null Count  Dtype         \n",
      "---  ------                --------------  -----         \n",
      " 0   id_usuario            58703 non-null  object        \n",
      " 1   data_primeiro_acesso  58703 non-null  datetime64[ns]\n",
      " 2   regiao                58703 non-null  object        \n",
      " 3   dispositivo           58703 non-null  object        \n",
      "dtypes: datetime64[ns](1), object(3)\n",
      "memory usage: 1.8+ MB\n"
     ]
    },
    {
     "data": {
      "text/html": [
       "<div>\n",
       "<style scoped>\n",
       "    .dataframe tbody tr th:only-of-type {\n",
       "        vertical-align: middle;\n",
       "    }\n",
       "\n",
       "    .dataframe tbody tr th {\n",
       "        vertical-align: top;\n",
       "    }\n",
       "\n",
       "    .dataframe thead th {\n",
       "        text-align: right;\n",
       "    }\n",
       "</style>\n",
       "<table border=\"1\" class=\"dataframe\">\n",
       "  <thead>\n",
       "    <tr style=\"text-align: right;\">\n",
       "      <th></th>\n",
       "      <th>id_usuario</th>\n",
       "      <th>data_primeiro_acesso</th>\n",
       "      <th>regiao</th>\n",
       "      <th>dispositivo</th>\n",
       "    </tr>\n",
       "  </thead>\n",
       "  <tbody>\n",
       "    <tr>\n",
       "      <th>0</th>\n",
       "      <td>D72A72121175D8BE</td>\n",
       "      <td>2020-12-07</td>\n",
       "      <td>EU</td>\n",
       "      <td>PC</td>\n",
       "    </tr>\n",
       "    <tr>\n",
       "      <th>1</th>\n",
       "      <td>F1C668619DFE6E65</td>\n",
       "      <td>2020-12-07</td>\n",
       "      <td>N.America</td>\n",
       "      <td>Android</td>\n",
       "    </tr>\n",
       "    <tr>\n",
       "      <th>2</th>\n",
       "      <td>2E1BF1D4C37EA01F</td>\n",
       "      <td>2020-12-07</td>\n",
       "      <td>EU</td>\n",
       "      <td>PC</td>\n",
       "    </tr>\n",
       "    <tr>\n",
       "      <th>3</th>\n",
       "      <td>50734A22C0C63768</td>\n",
       "      <td>2020-12-07</td>\n",
       "      <td>EU</td>\n",
       "      <td>iPhone</td>\n",
       "    </tr>\n",
       "    <tr>\n",
       "      <th>4</th>\n",
       "      <td>E1BDDCE0DAFA2679</td>\n",
       "      <td>2020-12-07</td>\n",
       "      <td>N.America</td>\n",
       "      <td>iPhone</td>\n",
       "    </tr>\n",
       "  </tbody>\n",
       "</table>\n",
       "</div>"
      ],
      "text/plain": [
       "         id_usuario data_primeiro_acesso     regiao dispositivo\n",
       "0  D72A72121175D8BE           2020-12-07         EU          PC\n",
       "1  F1C668619DFE6E65           2020-12-07  N.America     Android\n",
       "2  2E1BF1D4C37EA01F           2020-12-07         EU          PC\n",
       "3  50734A22C0C63768           2020-12-07         EU      iPhone\n",
       "4  E1BDDCE0DAFA2679           2020-12-07  N.America      iPhone"
      ]
     },
     "execution_count": 5,
     "metadata": {},
     "output_type": "execute_result"
    }
   ],
   "source": [
    "novosusuarios = novosusuarios.rename(columns={\n",
    "    'user_id': 'id_usuario',\n",
    "    'first_date': 'data_primeiro_acesso',\n",
    "    'region': 'regiao',\n",
    "    'device': 'dispositivo'\n",
    "})\n",
    "\n",
    "novosusuarios['data_primeiro_acesso'] = pd.to_datetime(novosusuarios['data_primeiro_acesso'])\n",
    "\n",
    "novosusuarios.info()\n",
    "novosusuarios.head()\n"
   ]
  },
  {
   "cell_type": "code",
   "execution_count": 6,
   "id": "ad9bcf73",
   "metadata": {
    "trusted": false
   },
   "outputs": [
    {
     "name": "stdout",
     "output_type": "stream",
     "text": [
      "<class 'pandas.core.frame.DataFrame'>\n",
      "RangeIndex: 14525 entries, 0 to 14524\n",
      "Data columns (total 3 columns):\n",
      " #   Column      Non-Null Count  Dtype \n",
      "---  ------      --------------  ----- \n",
      " 0   id_usuario  14525 non-null  object\n",
      " 1   grupo       14525 non-null  object\n",
      " 2   teste_ab    14525 non-null  object\n",
      "dtypes: object(3)\n",
      "memory usage: 340.6+ KB\n"
     ]
    },
    {
     "data": {
      "text/html": [
       "<div>\n",
       "<style scoped>\n",
       "    .dataframe tbody tr th:only-of-type {\n",
       "        vertical-align: middle;\n",
       "    }\n",
       "\n",
       "    .dataframe tbody tr th {\n",
       "        vertical-align: top;\n",
       "    }\n",
       "\n",
       "    .dataframe thead th {\n",
       "        text-align: right;\n",
       "    }\n",
       "</style>\n",
       "<table border=\"1\" class=\"dataframe\">\n",
       "  <thead>\n",
       "    <tr style=\"text-align: right;\">\n",
       "      <th></th>\n",
       "      <th>id_usuario</th>\n",
       "      <th>grupo</th>\n",
       "      <th>teste_ab</th>\n",
       "    </tr>\n",
       "  </thead>\n",
       "  <tbody>\n",
       "    <tr>\n",
       "      <th>0</th>\n",
       "      <td>D1ABA3E2887B6A73</td>\n",
       "      <td>A</td>\n",
       "      <td>recommender_system_test</td>\n",
       "    </tr>\n",
       "    <tr>\n",
       "      <th>1</th>\n",
       "      <td>A7A3664BD6242119</td>\n",
       "      <td>A</td>\n",
       "      <td>recommender_system_test</td>\n",
       "    </tr>\n",
       "    <tr>\n",
       "      <th>2</th>\n",
       "      <td>DABC14FDDFADD29E</td>\n",
       "      <td>A</td>\n",
       "      <td>recommender_system_test</td>\n",
       "    </tr>\n",
       "    <tr>\n",
       "      <th>3</th>\n",
       "      <td>04988C5DF189632E</td>\n",
       "      <td>A</td>\n",
       "      <td>recommender_system_test</td>\n",
       "    </tr>\n",
       "    <tr>\n",
       "      <th>4</th>\n",
       "      <td>4FF2998A348C484F</td>\n",
       "      <td>A</td>\n",
       "      <td>recommender_system_test</td>\n",
       "    </tr>\n",
       "  </tbody>\n",
       "</table>\n",
       "</div>"
      ],
      "text/plain": [
       "         id_usuario grupo                 teste_ab\n",
       "0  D1ABA3E2887B6A73     A  recommender_system_test\n",
       "1  A7A3664BD6242119     A  recommender_system_test\n",
       "2  DABC14FDDFADD29E     A  recommender_system_test\n",
       "3  04988C5DF189632E     A  recommender_system_test\n",
       "4  4FF2998A348C484F     A  recommender_system_test"
      ]
     },
     "execution_count": 6,
     "metadata": {},
     "output_type": "execute_result"
    }
   ],
   "source": [
    "participantes = participantes.rename(columns={\n",
    "    'user_id': 'id_usuario',\n",
    "    'group': 'grupo',\n",
    "    'ab_test': 'teste_ab'\n",
    "})\n",
    "\n",
    "participantes.info()\n",
    "participantes.head()\n"
   ]
  },
  {
   "cell_type": "markdown",
   "id": "28cb6aac",
   "metadata": {},
   "source": [
    "##  Preparação dos Dados\n",
    "\n",
    "Realizamos o pré-processamento com todos os DataFrames fornecidos, garantindo que estivessem prontos para as análises exploratórias e testes estatísticos subsequentes. Os principais ajustes incluíram:\n",
    "\n",
    "- **Conversão de colunas de data** para o tipo `datetime`, o que permite manipulações temporais corretas (filtragem por período, cálculo de intervalo entre datas etc.).\n",
    "- **Renomeação das colunas para o português**, visando padronização e clareza durante o desenvolvimento do projeto. \n",
    "- **Verificação de valores ausentes e duplicados**, assegurando a integridade das amostras.\n",
    "\n"
   ]
  },
  {
   "cell_type": "markdown",
   "id": "94de0b5b",
   "metadata": {},
   "source": [
    "## Analise Exploratoria"
   ]
  },
  {
   "cell_type": "code",
   "execution_count": 7,
   "id": "3802f0d9",
   "metadata": {
    "trusted": false
   },
   "outputs": [
    {
     "name": "stdout",
     "output_type": "stream",
     "text": [
      "Usuários únicos no experimento: 58703\n",
      "Usuários que visualizaram página de produto: 38929 (66.32%)\n",
      "Usuários que adicionaram ao carrinho: 19284 (32.85%)\n",
      "Usuários que realizaram compra: 19568 (33.33%)\n"
     ]
    }
   ],
   "source": [
    "usuarios_pagina_produto = finaleventos[finaleventos['nome_evento'] == 'product_page']['id_usuario'].nunique()\n",
    "usuarios_carrinho = finaleventos[finaleventos['nome_evento'] == 'product_cart']['id_usuario'].nunique()\n",
    "usuarios_compra = finaleventos[finaleventos['nome_evento'] == 'purchase']['id_usuario'].nunique()\n",
    "\n",
    "usuarios_totais = finaleventos['id_usuario'].nunique()\n",
    "\n",
    "taxa_pagina_produto = usuarios_pagina_produto / usuarios_totais\n",
    "taxa_carrinho = usuarios_carrinho / usuarios_totais\n",
    "taxa_compra = usuarios_compra / usuarios_totais\n",
    "\n",
    "print(f\"Usuários únicos no experimento: {usuarios_totais}\")\n",
    "print(f\"Usuários que visualizaram página de produto: {usuarios_pagina_produto} ({taxa_pagina_produto:.2%})\")\n",
    "print(f\"Usuários que adicionaram ao carrinho: {usuarios_carrinho} ({taxa_carrinho:.2%})\")\n",
    "print(f\"Usuários que realizaram compra: {usuarios_compra} ({taxa_compra:.2%})\")\n"
   ]
  },
  {
   "cell_type": "markdown",
   "id": "503b3534",
   "metadata": {},
   "source": [
    "Conversão por Etapa do Funil\n",
    "\n",
    "A análise da conversão dos usuários ao longo das etapas do funil `product_page → product_cart → purchase` mostra o seguinte:\n",
    "\n",
    "- **66,32%** dos usuários visualizaram ao menos uma página de produto.\n",
    "- **32,85%** adicionaram produtos ao carrinho.\n",
    "- **33,33%** finalizaram uma compra.\n",
    "\n",
    "O número de compradores é ligeiramente maior do que os que adicionaram ao carrinho, o que pode indicar que parte dos usuários realizou a compra de forma direta (sem passar pelo evento intermediário).\n",
    "\n"
   ]
  },
  {
   "cell_type": "code",
   "execution_count": 8,
   "id": "4ce7172b",
   "metadata": {
    "trusted": false
   },
   "outputs": [
    {
     "data": {
      "image/png": "[encoded data removed]",
      "text/plain": [
       "<Figure size 1000x500 with 1 Axes>"
      ]
     },
     "metadata": {},
     "output_type": "display_data"
    }
   ],
   "source": [
    "eventos_com_grupo = finaleventos.merge(participantes, on='id_usuario')\n",
    "\n",
    "eventos_por_usuario = eventos_com_grupo.groupby(['id_usuario', 'grupo']).size().reset_index(name='quantidade_eventos')\n",
    "\n",
    "estatisticas_eventos = eventos_por_usuario.groupby('grupo')['quantidade_eventos'].describe()\n",
    "\n",
    "plt.figure(figsize=(10, 5))\n",
    "sns.boxplot(data=eventos_por_usuario, x='grupo', y='quantidade_eventos')\n",
    "plt.title('Distribuição do Número de Eventos por Usuário em Cada Grupo')\n",
    "plt.xlabel('Grupo')\n",
    "plt.ylabel('Quantidade de Eventos')\n",
    "plt.grid(True)\n",
    "plt.show()\n"
   ]
  },
  {
   "cell_type": "markdown",
   "id": "97dfa453",
   "metadata": {},
   "source": [
    " Distribuição do Número de Eventos por Usuário em Cada Grupo\n",
    "\n",
    "O boxplot acima mostra que a **quantidade de eventos por usuário** está distribuída de forma muito semelhante entre os grupos **A (controle)** e **B (teste)**.\n",
    "\n",
    "- A mediana e os quartis são praticamente iguais entre os grupos.\n",
    "- Ambos os grupos apresentam a mesma tendência de distribuição e número de outliers.\n",
    "- Isso indica que **o comportamento de navegação geral foi equilibrado entre as amostras**, o que reforça a validade do experimento e reduz risco de viés relacionado à exposição desigual.\n"
   ]
  },
  {
   "cell_type": "code",
   "execution_count": 9,
   "id": "047fdb63",
   "metadata": {
    "trusted": false
   },
   "outputs": [
    {
     "data": {
      "image/png": "[encoded data removed]",
      "text/plain": [
       "<Figure size 1200x600 with 1 Axes>"
      ]
     },
     "metadata": {},
     "output_type": "display_data"
    }
   ],
   "source": [
    "# Filtrar apenas eventos de compra e unir com os grupos\n",
    "compras = finaleventos[finaleventos['nome_evento'] == 'purchase']\n",
    "compras_com_grupo = compras.merge(participantes, on='id_usuario')\n",
    "\n",
    "# Criar coluna apenas com a data (sem hora)\n",
    "compras_com_grupo['data'] = compras_com_grupo['data_evento'].dt.date\n",
    "\n",
    "# Agrupar por data e grupo, somando receita (detalhes)\n",
    "receita_diaria = compras_com_grupo.groupby(['data', 'grupo'])['detalhes'].sum().reset_index()\n",
    "\n",
    "# Calcular receita cumulativa por grupo\n",
    "receita_diaria['receita_cumulativa'] = receita_diaria.groupby('grupo')['detalhes'].cumsum()\n",
    "\n",
    "plt.figure(figsize=(12, 6))\n",
    "for grupo, dados in receita_diaria.groupby('grupo'):\n",
    "    plt.plot(dados['data'], dados['receita_cumulativa'], label=f'Grupo {grupo}')\n",
    "\n",
    "plt.title('Receita Cumulativa por Grupo')\n",
    "plt.xlabel('Data')\n",
    "plt.ylabel('Receita Cumulativa (USD)')\n",
    "plt.legend(title='Grupo')\n",
    "plt.grid(True)\n",
    "plt.xticks(rotation=45)\n",
    "plt.tight_layout()\n",
    "plt.show()\n",
    "\n"
   ]
  },
  {
   "cell_type": "markdown",
   "id": "0d66f723",
   "metadata": {},
   "source": [
    "Verificação de Participação no Teste A/B\n",
    "\n",
    "Ao comparar os usuários que realizaram eventos (`finaleventos`) com os participantes oficialmente registrados no experimento (`participantes`), observamos o seguinte:\n",
    "\n",
    "- **58.703** usuários realizaram eventos no período analisado.\n",
    "- Apenas **13.638** estão identificados como participantes do teste A/B.\n",
    "- Isso significa que **45.065 usuários (~77%)** com eventos **não pertencem oficialmente ao experimento**.\n"
   ]
  },
  {
   "cell_type": "code",
   "execution_count": 10,
   "id": "d58aaa13",
   "metadata": {
    "trusted": false
   },
   "outputs": [
    {
     "name": "stdout",
     "output_type": "stream",
     "text": [
      "          data  quantidade_eventos\n",
      "0   2020-12-07               11385\n",
      "1   2020-12-08               12547\n",
      "2   2020-12-09               12122\n",
      "3   2020-12-10               14077\n",
      "4   2020-12-11               13864\n",
      "5   2020-12-12               17634\n",
      "6   2020-12-13               20985\n",
      "7   2020-12-14               26184\n",
      "8   2020-12-15               23469\n",
      "9   2020-12-16               20909\n",
      "10  2020-12-17               21751\n",
      "11  2020-12-18               22871\n",
      "12  2020-12-19               24273\n",
      "13  2020-12-20               26425\n",
      "14  2020-12-21               32559\n",
      "15  2020-12-22               29472\n",
      "16  2020-12-23               26108\n",
      "17  2020-12-24               19399\n",
      "18  2020-12-26               14058\n",
      "19  2020-12-27               12420\n",
      "20  2020-12-28               11014\n",
      "21  2020-12-29               10146\n",
      "22  2020-12-30                  89\n"
     ]
    },
    {
     "data": {
      "image/png": "[encoded data removed]",
      "text/plain": [
       "<Figure size 1200x500 with 1 Axes>"
      ]
     },
     "metadata": {},
     "output_type": "display_data"
    }
   ],
   "source": [
    "finaleventos['data'] = finaleventos['data_evento'].dt.date\n",
    "eventos_por_dia = finaleventos.groupby('data').size().reset_index(name='quantidade_eventos')\n",
    "\n",
    "print(eventos_por_dia)\n",
    "\n",
    "plt.figure(figsize=(12, 5))\n",
    "plt.plot(eventos_por_dia['data'], eventos_por_dia['quantidade_eventos'], marker='o')\n",
    "plt.title('Distribuição do Número de Eventos por Dia')\n",
    "plt.xlabel('Data')\n",
    "plt.ylabel('Quantidade de Eventos')\n",
    "plt.xticks(rotation=45)\n",
    "plt.grid(True)\n",
    "plt.tight_layout()\n",
    "plt.show()\n"
   ]
  },
  {
   "cell_type": "markdown",
   "id": "108bda16",
   "metadata": {},
   "source": [
    "Distribuição Diária de Eventos\n",
    "\n",
    "A análise temporal mostra a evolução da atividade dos usuários durante o experimento. A distribuição diária revela:\n",
    "\n",
    "- Um crescimento gradual de eventos entre os dias **07/12 e 21/12**, com um **pico absoluto no dia 21/12** (32.559 eventos), que coincide com o **último dia de inclusão de novos usuários no experimento**.\n",
    "- Após o dia 21/12, a atividade começa a diminuir progressivamente, com forte queda após o dia 24/12 — provavelmente influenciada pelo período de festas de fim de ano.\n",
    "- O último dia, 30/12, apresenta atividade quase nula (apenas 89 eventos), indicando fim do ciclo de engajamento.\n",
    "\n"
   ]
  },
  {
   "cell_type": "code",
   "execution_count": 13,
   "id": "870f9ef8",
   "metadata": {
    "trusted": false
   },
   "outputs": [
    {
     "name": "stdout",
     "output_type": "stream",
     "text": [
      "Usuários presentes em ambos os grupos: 441\n",
      "Percentual de sobreposição: 3.23%\n"
     ]
    }
   ],
   "source": [
    "grupo_a = participantes[participantes['grupo'] == 'A']['id_usuario']\n",
    "grupo_b = participantes[participantes['grupo'] == 'B']['id_usuario']\n",
    "\n",
    "usuarios_em_ambos = set(grupo_a).intersection(set(grupo_b))\n",
    "\n",
    "total_unicos = participantes['id_usuario'].nunique()\n",
    "percentual_em_ambos = len(usuarios_em_ambos) / total_unicos * 100\n",
    "\n",
    "print(f\"Usuários presentes em ambos os grupos: {len(usuarios_em_ambos)}\")\n",
    "print(f\"Percentual de sobreposição: {percentual_em_ambos:.2f}%\")"
   ]
  },
  {
   "cell_type": "markdown",
   "id": "d35311a5",
   "metadata": {},
   "source": [
    "---\n",
    "\n",
    "Particularidades dos Dados a Considerar Antes do Teste A/B\n",
    "\n",
    "Antes de iniciar os testes estatísticos de comparação entre os grupos, algumas características críticas dos dados precisam ser levadas em conta:\n",
    "\n",
    " 1. Presença de usuários fora do experimento\n",
    "- Dos **58.703 usuários** que realizaram eventos, apenas **13.638** estão oficialmente vinculados a grupos A ou B.\n",
    "- Ou seja, **~77% dos usuários com eventos não pertencem ao teste A/B** e **devem ser excluídos** da análise para evitar viés.\n",
    "\n",
    " 2. Distribuição equilibrada entre grupos\n",
    "- A **quantidade de eventos por usuário** está bem distribuída entre os grupos A e B, o que confirma que a randomização foi eficaz. Isso fortalece a validade do experimento.\n",
    "\n",
    " 3. Efeito de datas e sazonalidade\n",
    "- Há um **pico de atividade em 21/12**, último dia de inclusão de novos usuários no teste.\n",
    "- Após o dia 24/12, há **queda acentuada de atividade**, coincidindo com o período de festas.\n",
    "- Essas flutuações podem influenciar as conversões, especialmente em grupos que entraram mais tarde.\n",
    "\n",
    " 4. Participantes com eventos fora da janela de 14 dias\n",
    "- O experimento prevê análise **até 14 dias após o cadastro**. Eventos que ocorrem fora dessa janela devem ser removidos ou ignorados na comparação de desempenho.\n",
    "\n",
    " 5. Anomalia no funil\n",
    "- A conversão final (`purchase`) está **ligeiramente maior que a do carrinho (`product_cart`)**, o que sugere que alguns usuários podem estar realizando compras sem adicionar ao carrinho.\n",
    "- Esse comportamento deve ser considerado ao interpretar os resultados.\n",
    "\n",
    "---\n",
    "\n"
   ]
  },
  {
   "cell_type": "markdown",
   "id": "26025665",
   "metadata": {},
   "source": [
    "6. Sobreposição de usuários entre grupos\n",
    "\n",
    "Foi identificado que **441 usuários estão presentes em ambos os grupos A e B**, o que representa **3,23% dos participantes únicos**. Isso **viola a premissa de independência estatística** entre os grupos — um requisito essencial para a robustez dos testes de hipótese aplicados.\n",
    "\n",
    "Essa sobreposição pode comprometer parcialmente a validade dos resultados, pois os mesmos usuários estão contribuindo para as métricas de conversão dos dois grupos. O ideal seria **remover esses casos da base** antes de executar qualquer comparação entre os grupos.\n",
    "\n",
    "Essa é uma limitação relevante e deve ser considerada na interpretação final dos resultados estatísticos.\n"
   ]
  },
  {
   "cell_type": "markdown",
   "id": "2e8c3692",
   "metadata": {},
   "source": [
    "## Formulação das Hipóteses para o Teste A/B\n",
    "\n",
    "Para cada etapa do funil (`product_page`, `product_cart`, `purchase`), definimos as hipóteses a serem testadas estatisticamente:\n",
    "\n",
    " Hipóteses Gerais\n",
    "\n",
    "- **Hipótese Nula (H₀):** Não há diferença significativa na taxa de conversão entre os grupos A e B.\n",
    "- **Hipótese Alternativa (H₁):** Há diferença significativa na taxa de conversão entre os grupos A e B.\n",
    "\n",
    "Como o objetivo do teste é verificar se o novo sistema de recomendação (grupo B) melhora a conversão, estamos especialmente atentos a aumentos significativos nas taxas do grupo B. No entanto, a formulação acima é **bilateral**, ou seja, o teste detecta qualquer diferença (positiva ou negativa).\n",
    "\n",
    "O nível de significância adotado é **α = 0.05**. Caso o valor-p seja menor que esse limiar, rejeitamos H₀ e aceitamos que há diferença estatística entre os grupos.\n",
    "\n",
    "Em seguida, aplicamos o z-teste para proporções nas três etapas do funil.\n"
   ]
  },
  {
   "cell_type": "code",
   "execution_count": 14,
   "id": "4de13532",
   "metadata": {
    "trusted": false
   },
   "outputs": [
    {
     "name": "stdout",
     "output_type": "stream",
     "text": [
      "Evento: product_page\n",
      "Grupo A: 5208/7874 (66.14%)\n",
      "Grupo B: 3986/6205 (64.24%)\n",
      "p-valor: 0.0185\n",
      "Resultado: Diferença significativa\n",
      "----------------------------------------\n",
      "Evento: product_cart\n",
      "Grupo A: 2483/7874 (31.53%)\n",
      "Grupo B: 2037/6205 (32.83%)\n",
      "p-valor: 0.1025\n",
      "Resultado: Não significativa\n",
      "----------------------------------------\n",
      "Evento: purchase\n",
      "Grupo A: 2682/7874 (34.06%)\n",
      "Grupo B: 2008/6205 (32.36%)\n",
      "p-valor: 0.0336\n",
      "Resultado: Diferença significativa\n",
      "----------------------------------------\n"
     ]
    }
   ],
   "source": [
    "finaleventos_com_grupo = finaleventos.merge(participantes, on='id_usuario')\n",
    "\n",
    "# Criar função para calcular z-teste por etapa do funil\n",
    "def testar_proporcao(evento):\n",
    "    dados = finaleventos_com_grupo[finaleventos_com_grupo['nome_evento'] == evento]\n",
    "    contagem = dados.groupby('grupo')['id_usuario'].nunique()\n",
    "    \n",
    "    total_a = participantes[participantes['grupo'] == 'A']['id_usuario'].nunique()\n",
    "    total_b = participantes[participantes['grupo'] == 'B']['id_usuario'].nunique()\n",
    "\n",
    "    # Sucessos = número de usuários únicos que realizaram o evento em cada grupo\n",
    "    sucessos = [contagem.get('A', 0), contagem.get('B', 0)]\n",
    "    totais = [total_a, total_b]\n",
    "    \n",
    "    stat, p_valor = proportions_ztest(sucessos, totais)\n",
    "    \n",
    "    print(f\"Evento: {evento}\")\n",
    "    print(f\"Grupo A: {sucessos[0]}/{totais[0]} ({sucessos[0]/totais[0]:.2%})\")\n",
    "    print(f\"Grupo B: {sucessos[1]}/{totais[1]} ({sucessos[1]/totais[1]:.2%})\")\n",
    "    print(f\"p-valor: {p_valor:.4f}\")\n",
    "    print(\"Resultado:\", \"Diferença significativa\" if p_valor < 0.05 else \"Não significativa\")\n",
    "    print(\"-\" * 40)\n",
    "\n",
    "# Avaliar as 3 etapas do funil\n",
    "testar_proporcao('product_page')\n",
    "testar_proporcao('product_cart')\n",
    "testar_proporcao('purchase')\n"
   ]
  },
  {
   "cell_type": "markdown",
   "id": "52fc6654",
   "metadata": {},
   "source": [
    " Avaliação dos Resultados do Teste A/B\n",
    "\n",
    "Utilizando o **z-teste para comparação de proporções**, avaliamos o desempenho dos grupos A (controle) e B (teste com novo sistema de recomendação) em cada etapa do funil. Os resultados foram:\n",
    "\n",
    " 1. Visualização de Página de Produto (`product_page`)\n",
    "- **Grupo A**: 66,14%  \n",
    "- **Grupo B**: 64,24%  \n",
    "- **p-valor = 0.0185 → Diferença estatisticamente significativa**\n",
    "- **Observação**: o grupo controle teve desempenho superior — **contrário ao esperado**.\n",
    "\n",
    "2. Adição ao Carrinho (`product_cart`)\n",
    "- **Grupo A**: 31,53%  \n",
    "- **Grupo B**: 32,83%  \n",
    "- **p-valor = 0.1025 → Diferença não significativa**\n",
    "- **Observação**: desempenho similar, **sem evidência de impacto da nova recomendação**.\n",
    "\n",
    " 3. Compra Realizada (`purchase`)\n",
    "- **Grupo A**: 34,06%  \n",
    "- **Grupo B**: 32,36%  \n",
    "- **p-valor = 0.0336 → Diferença estatisticamente significativa**\n",
    "- **Observação**: novamente, o **grupo controle converteu melhor**.\n",
    "\n",
    "---\n"
   ]
  },
  {
   "cell_type": "markdown",
   "id": "94131058",
   "metadata": {},
   "source": [
    "Conclusões Finais da AED\n",
    "\n",
    "Durante a etapa de AED, identificamos os seguintes pontos-chave:\n",
    "\n",
    "- O funil de conversão apresentou comportamento esperado, com:\n",
    "  - 66% dos usuários visualizando páginas de produto;\n",
    "  - 32% adicionando itens ao carrinho;\n",
    "  - 33% realizando compras.\n",
    "- A distribuição de eventos por usuário está equilibrada entre os grupos A e B, indicando uma boa randomização.\n",
    "- A atividade diária dos usuários aumentou até o dia 21/12 (último dia de inclusão) e caiu significativamente após o Natal, sinalizando efeito sazonal no engajamento.\n",
    "- Apenas 23% dos usuários com eventos fazem parte do experimento, o que exigiu filtragem para análises válidas.\n",
    "- A ordem do funil mostra uma anomalia: mais compras que adições ao carrinho — o que pode indicar bypass de etapas no fluxo do usuário.\n",
    "\n",
    "Essas análises ajudaram a preparar e qualificar os dados para o teste estatístico com segurança.\n",
    "\n",
    "---\n",
    "\n",
    "Resultado do Teste A/B\n",
    "\n",
    "Realizamos testes z para proporções em cada etapa do funil. As conclusões foram:\n",
    "\n",
    "- **`product_page`**: Grupo A teve performance significativamente superior (p = 0.0185)\n",
    "- **`product_cart`**: Não houve diferença significativa (p = 0.1025)\n",
    "- **`purchase`**: Grupo A novamente teve melhor resultado (p = 0.0336)\n",
    "\n",
    "A proposta inicial do experimento era que o novo sistema de recomendação (grupo B) aumentasse a conversão em pelo menos 10% em cada etapa. Isso **não aconteceu**. Na verdade, o grupo B teve desempenho **pior em duas das três etapas**, com significância estatística.\n",
    "\n",
    "---\n",
    "\n",
    "Conclusão Geral\n",
    "\n",
    "O novo sistema de recomendação **não demonstrou impacto positivo** no funil de conversão. Com base nas evidências estatísticas, **não recomendamos sua implementação** neste formato atual. Sugerimos uma revisão da lógica do sistema e novos testes controlados em um cenário mais neutro (sem sazonalidade).\n",
    "\n"
   ]
  }
 ],
 "metadata": {
  "ExecuteTimeLog": [
   {
    "duration": 2676,
    "start_time": "2025-05-10T18:54:58.707Z"
   },
   {
    "duration": 588,
    "start_time": "2025-05-10T18:55:01.386Z"
   },
   {
    "duration": 0,
    "start_time": "2025-05-10T18:55:01.976Z"
   },
   {
    "duration": 1,
    "start_time": "2025-05-10T18:55:01.976Z"
   },
   {
    "duration": 0,
    "start_time": "2025-05-10T18:55:01.977Z"
   },
   {
    "duration": 0,
    "start_time": "2025-05-10T18:55:01.978Z"
   },
   {
    "duration": 0,
    "start_time": "2025-05-10T18:55:01.980Z"
   },
   {
    "duration": 0,
    "start_time": "2025-05-10T18:55:01.982Z"
   },
   {
    "duration": 0,
    "start_time": "2025-05-10T18:55:01.983Z"
   },
   {
    "duration": 0,
    "start_time": "2025-05-10T18:55:01.984Z"
   },
   {
    "duration": 0,
    "start_time": "2025-05-10T18:55:01.986Z"
   },
   {
    "duration": 19,
    "start_time": "2025-05-10T18:55:11.610Z"
   }
  ],
  "kernelspec": {
   "display_name": "Python 3",
   "language": "python",
   "name": "python3"
  },
  "language_info": {
   "codemirror_mode": {
    "name": "ipython",
    "version": 3
   },
   "file_extension": ".py",
   "mimetype": "text/x-python",
   "name": "python",
   "nbconvert_exporter": "python",
   "pygments_lexer": "ipython3",
   "version": "3.12.5"
  },
  "toc": {
   "base_numbering": 1,
   "nav_menu": {},
   "number_sections": true,
   "sideBar": true,
   "skip_h1_title": true,
   "title_cell": "Table of Contents",
   "title_sidebar": "Contents",
   "toc_cell": false,
   "toc_position": {},
   "toc_section_display": true,
   "toc_window_display": false
  }
 },
 "nbformat": 4,
 "nbformat_minor": 5
}
